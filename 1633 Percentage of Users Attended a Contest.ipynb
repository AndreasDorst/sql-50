{
 "cells": [
  {
   "cell_type": "markdown",
   "metadata": {},
   "source": [
    "### Problem: Find percentage of users attended a context\n",
    "\n",
    "Table: Users\n",
    "\n",
    "| Column Name | Type    |\n",
    "|-------------|---------|\n",
    "| user_id     | int     |\n",
    "| user_name   | varchar |\n",
    "\n",
    "user_id is the primary key (column with unique values) for this table.\n",
    "Each row of this table contains the name and the id of a user.\n",
    " \n",
    "\n",
    "Table: Register\n",
    "\n",
    "| Column Name | Type    |\n",
    "|-------------|---------|\n",
    "| contest_id  | int     |\n",
    "| user_id     | int     |\n",
    "\n",
    "(contest_id, user_id) is the primary key (combination of columns with unique values) for this table.\n",
    "Each row of this table contains the id of a user and the contest they registered into.\n",
    " \n",
    "\n",
    "Write a solution to find the percentage of the users registered in each contest rounded to two decimals.\n",
    "\n",
    "Return the result table ordered by percentage in descending order. In case of a tie, order it by contest_id in ascending order.\n",
    "\n",
    "The result format is in the following example.\n",
    "\n",
    " \n",
    "\n",
    "#### Example 1:\n",
    "\n",
    "Input: \n",
    "Users table:\n",
    "\n",
    "| user_id | user_name |\n",
    "|---------|-----------|\n",
    "| 6       | Alice     |\n",
    "| 2       | Bob       |\n",
    "| 7       | Alex      |\n",
    "\n",
    "Register table:\n",
    "\n",
    "| contest_id | user_id |\n",
    "|------------|---------|\n",
    "| 215        | 6       |\n",
    "| 209        | 2       |\n",
    "| 208        | 2       |\n",
    "| 210        | 6       |\n",
    "| 208        | 6       |\n",
    "| 209        | 7       |\n",
    "| 209        | 6       |\n",
    "| 215        | 7       |\n",
    "| 208        | 7       |\n",
    "| 210        | 2       |\n",
    "| 207        | 2       |\n",
    "| 210        | 7       |\n",
    "\n",
    "Output: \n",
    "\n",
    "| contest_id | percentage |\n",
    "|------------|------------|\n",
    "| 208        | 100.0      |\n",
    "| 209        | 100.0      |\n",
    "| 210        | 100.0      |\n",
    "| 215        | 66.67      |\n",
    "| 207        | 33.33      |\n",
    "\n",
    "Explanation: \n",
    "All the users registered in contests 208, 209, and 210. The percentage is 100% and we sort them in the answer table by contest_id in ascending order.\n",
    "Alice and Alex registered in contest 215 and the percentage is ((2/3) * 100) = 66.67%\n",
    "Bob registered in contest 207 and the percentage is ((1/3) * 100) = 33.33%"
   ]
  },
  {
   "cell_type": "code",
   "execution_count": 1,
   "metadata": {},
   "outputs": [],
   "source": [
    "import pandas as pd"
   ]
  },
  {
   "cell_type": "code",
   "execution_count": 2,
   "metadata": {},
   "outputs": [],
   "source": [
    "data = [[6, 'Alice'], [2, 'Bob'], [7, 'Alex']]\n",
    "users = pd.DataFrame(data, columns=['user_id', 'user_name']).astype({'user_id':'Int64', 'user_name':'object'})\n",
    "data = [[215, 6], [209, 2], [208, 2], [210, 6], [208, 6], [209, 7], [209, 6], [215, 7], [208, 7], [210, 2], [207, 2], [210, 7]]\n",
    "register = pd.DataFrame(data, columns=['contest_id', 'user_id']).astype({'contest_id':'Int64', 'user_id':'Int64'})"
   ]
  },
  {
   "cell_type": "code",
   "execution_count": 3,
   "metadata": {},
   "outputs": [
    {
     "data": {
      "text/plain": [
       "3"
      ]
     },
     "execution_count": 3,
     "metadata": {},
     "output_type": "execute_result"
    }
   ],
   "source": [
    "participats = register['user_id'].nunique()\n",
    "participats"
   ]
  },
  {
   "cell_type": "code",
   "execution_count": null,
   "metadata": {},
   "outputs": [
    {
     "data": {
      "text/plain": [
       "contest_id\n",
       "207    1\n",
       "208    3\n",
       "209    3\n",
       "210    3\n",
       "215    2\n",
       "Name: user_id, dtype: int64"
      ]
     },
     "execution_count": 9,
     "metadata": {},
     "output_type": "execute_result"
    }
   ],
   "source": [
    "contest_users_count = (\n",
    "    register.groupby('contest_id')['user_id']\n",
    "    .nunique()\n",
    ")\n",
    "contest_users_count"
   ]
  },
  {
   "cell_type": "code",
   "execution_count": 10,
   "metadata": {},
   "outputs": [
    {
     "data": {
      "text/plain": [
       "contest_id\n",
       "207     33.333333\n",
       "208    100.000000\n",
       "209    100.000000\n",
       "210    100.000000\n",
       "215     66.666667\n",
       "Name: user_id, dtype: float64"
      ]
     },
     "execution_count": 10,
     "metadata": {},
     "output_type": "execute_result"
    }
   ],
   "source": [
    "percentage = (contest_users_count / participats) * 100\n",
    "percentage"
   ]
  },
  {
   "cell_type": "code",
   "execution_count": 12,
   "metadata": {},
   "outputs": [
    {
     "data": {
      "text/html": [
       "<div>\n",
       "<style scoped>\n",
       "    .dataframe tbody tr th:only-of-type {\n",
       "        vertical-align: middle;\n",
       "    }\n",
       "\n",
       "    .dataframe tbody tr th {\n",
       "        vertical-align: top;\n",
       "    }\n",
       "\n",
       "    .dataframe thead th {\n",
       "        text-align: right;\n",
       "    }\n",
       "</style>\n",
       "<table border=\"1\" class=\"dataframe\">\n",
       "  <thead>\n",
       "    <tr style=\"text-align: right;\">\n",
       "      <th></th>\n",
       "      <th>contest_id</th>\n",
       "      <th>percentage</th>\n",
       "    </tr>\n",
       "  </thead>\n",
       "  <tbody>\n",
       "    <tr>\n",
       "      <th>0</th>\n",
       "      <td>207</td>\n",
       "      <td>33.33</td>\n",
       "    </tr>\n",
       "    <tr>\n",
       "      <th>1</th>\n",
       "      <td>208</td>\n",
       "      <td>100.00</td>\n",
       "    </tr>\n",
       "    <tr>\n",
       "      <th>2</th>\n",
       "      <td>209</td>\n",
       "      <td>100.00</td>\n",
       "    </tr>\n",
       "    <tr>\n",
       "      <th>3</th>\n",
       "      <td>210</td>\n",
       "      <td>100.00</td>\n",
       "    </tr>\n",
       "    <tr>\n",
       "      <th>4</th>\n",
       "      <td>215</td>\n",
       "      <td>66.67</td>\n",
       "    </tr>\n",
       "  </tbody>\n",
       "</table>\n",
       "</div>"
      ],
      "text/plain": [
       "   contest_id  percentage\n",
       "0         207       33.33\n",
       "1         208      100.00\n",
       "2         209      100.00\n",
       "3         210      100.00\n",
       "4         215       66.67"
      ]
     },
     "execution_count": 12,
     "metadata": {},
     "output_type": "execute_result"
    }
   ],
   "source": [
    "result = pd.DataFrame({'contest_id': percentage.index, 'percentage': percentage.values}).round(2)\n",
    "result"
   ]
  },
  {
   "cell_type": "code",
   "execution_count": 33,
   "metadata": {},
   "outputs": [],
   "source": [
    "def users_percentage(users: pd.DataFrame, register: pd.DataFrame) -> pd.DataFrame:\n",
    "    participats = users['user_id'].nunique()\n",
    "    contest_users_count = register.groupby('contest_id')['user_id'].nunique()\n",
    "    percentage = (contest_users_count / participats) * 100\n",
    "    result = pd.DataFrame({'contest_id': percentage.index, 'percentage': percentage.values})\n",
    "    result['percentage'] = result['percentage'].round(2)\n",
    "    result = result.sort_values(by=['percentage', 'contest_id'], ascending=[False, True])\n",
    "    return result "
   ]
  },
  {
   "cell_type": "code",
   "execution_count": 32,
   "metadata": {},
   "outputs": [
    {
     "data": {
      "text/html": [
       "<div>\n",
       "<style scoped>\n",
       "    .dataframe tbody tr th:only-of-type {\n",
       "        vertical-align: middle;\n",
       "    }\n",
       "\n",
       "    .dataframe tbody tr th {\n",
       "        vertical-align: top;\n",
       "    }\n",
       "\n",
       "    .dataframe thead th {\n",
       "        text-align: right;\n",
       "    }\n",
       "</style>\n",
       "<table border=\"1\" class=\"dataframe\">\n",
       "  <thead>\n",
       "    <tr style=\"text-align: right;\">\n",
       "      <th></th>\n",
       "      <th>contest_id</th>\n",
       "      <th>percentage</th>\n",
       "    </tr>\n",
       "  </thead>\n",
       "  <tbody>\n",
       "    <tr>\n",
       "      <th>1</th>\n",
       "      <td>208</td>\n",
       "      <td>100.00</td>\n",
       "    </tr>\n",
       "    <tr>\n",
       "      <th>2</th>\n",
       "      <td>209</td>\n",
       "      <td>100.00</td>\n",
       "    </tr>\n",
       "    <tr>\n",
       "      <th>3</th>\n",
       "      <td>210</td>\n",
       "      <td>100.00</td>\n",
       "    </tr>\n",
       "    <tr>\n",
       "      <th>4</th>\n",
       "      <td>215</td>\n",
       "      <td>66.67</td>\n",
       "    </tr>\n",
       "    <tr>\n",
       "      <th>0</th>\n",
       "      <td>207</td>\n",
       "      <td>33.33</td>\n",
       "    </tr>\n",
       "  </tbody>\n",
       "</table>\n",
       "</div>"
      ],
      "text/plain": [
       "   contest_id  percentage\n",
       "1         208      100.00\n",
       "2         209      100.00\n",
       "3         210      100.00\n",
       "4         215       66.67\n",
       "0         207       33.33"
      ]
     },
     "execution_count": 32,
     "metadata": {},
     "output_type": "execute_result"
    }
   ],
   "source": [
    "users_percentage(users, register)"
   ]
  }
 ],
 "metadata": {
  "kernelspec": {
   "display_name": "venv",
   "language": "python",
   "name": "python3"
  },
  "language_info": {
   "codemirror_mode": {
    "name": "ipython",
    "version": 3
   },
   "file_extension": ".py",
   "mimetype": "text/x-python",
   "name": "python",
   "nbconvert_exporter": "python",
   "pygments_lexer": "ipython3",
   "version": "3.12.7"
  }
 },
 "nbformat": 4,
 "nbformat_minor": 2
}
