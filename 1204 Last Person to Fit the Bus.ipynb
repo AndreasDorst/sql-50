{
 "cells": [
  {
   "cell_type": "markdown",
   "id": "32394cf4-1fbc-49a2-a403-77e00ec3f80d",
   "metadata": {},
   "source": [
    "## Problem: Find the Last Person Who Can Board the Bus\n",
    "\n",
    "#### Table: Queue\n",
    "\n",
    "| Column Name  | Type    |\n",
    "|--------------|---------|\n",
    "| person_id    | int     |\n",
    "| person_name  | varchar |\n",
    "| weight       | int     |\n",
    "| turn         | int     |\n",
    "\n",
    "- `person_id` column contains unique values.\n",
    "- This table has the information about all people waiting for a bus.\n",
    "- The `person_id` and `turn` columns will contain all numbers from `1` to `n`, where `n` is the number of rows in the table.\n",
    "- `turn` determines the order of which the people will board the bus, where `turn=1` denotes the first person to board and `turn=n` denotes the last person to board.\n",
    "- `weight` is the weight of the person in kilograms.\n",
    "\n",
    "### Task\n",
    "\n",
    "There is a queue of people waiting to board a bus. However, the bus has a **weight limit of 1000 kilograms**, so there may be some people who cannot board.\n",
    "\n",
    "Write a solution to find the `person_name` of the last person that can fit on the bus without exceeding the weight limit. \n",
    "\n",
    "The test cases are generated such that the **first person does not exceed the weight limit**. Only one person can board the bus at any given turn.\n",
    "\n",
    "### Example\n",
    "\n",
    "### Input\n",
    "\n",
    "#### Queue Table:\n",
    "\n",
    "| person_id | person_name | weight | turn |\n",
    "|-----------|-------------|--------|------|\n",
    "| 5         | Alice       | 250    | 1    |\n",
    "| 4         | Bob         | 175    | 5    |\n",
    "| 3         | Alex        | 350    | 2    |\n",
    "| 6         | John Cena   | 400    | 3    |\n",
    "| 1         | Winston     | 500    | 6    |\n",
    "| 2         | Marie       | 200    | 4    |\n",
    "\n",
    "### Output\n",
    "\n",
    "| person_name |\n",
    "|-------------|\n",
    "| John Cena   |\n",
    "\n",
    "### Explanation\n",
    "\n",
    "The following table is ordered by the `turn` column for simplicity:\n",
    "\n",
    "| Turn | ID | Name       | Weight | Total Weight | Notes                  |\n",
    "|------|----|------------|--------|--------------|------------------------|\n",
    "| 1    | 5  | Alice      | 250    | 250          |                        |\n",
    "| 2    | 3  | Alex       | 350    | 600          |                        |\n",
    "| 3    | 6  | John Cena  | 400    | 1000         | (last person to board) |\n",
    "| 4    | 2  | Marie      | 200    | 1200         | (cannot board)         |\n",
    "| 5    | 4  | Bob        | 175    | -            | (cannot board)         |\n",
    "| 6    | 1  | Winston    | 500    | -            | (cannot board)         |"
   ]
  },
  {
   "cell_type": "code",
   "execution_count": 10,
   "id": "90ab988e-b062-49d0-9635-21d382e31b09",
   "metadata": {},
   "outputs": [],
   "source": [
    "import sqlite3\n",
    "import pandas as pd"
   ]
  },
  {
   "cell_type": "code",
   "execution_count": 3,
   "id": "5b5339c5-416f-4171-b06d-8b9b6719570d",
   "metadata": {},
   "outputs": [],
   "source": [
    "# Connect to a database (or create it if it doesn't exist)\n",
    "conn = sqlite3.connect('example.db')"
   ]
  },
  {
   "cell_type": "code",
   "execution_count": 4,
   "id": "ca7dca3f-6747-4f12-9238-01ce4b11aa9f",
   "metadata": {},
   "outputs": [],
   "source": [
    "# Create a cursor object\n",
    "cursor = conn.cursor()"
   ]
  },
  {
   "cell_type": "code",
   "execution_count": 5,
   "id": "b7cd7d9b-e5cf-402c-8a33-4b8df59aeb7e",
   "metadata": {},
   "outputs": [
    {
     "data": {
      "text/plain": [
       "<sqlite3.Cursor at 0x1bc80ef66c0>"
      ]
     },
     "execution_count": 5,
     "metadata": {},
     "output_type": "execute_result"
    }
   ],
   "source": [
    "# Create a table\n",
    "cursor.execute('''\n",
    "CREATE TABLE IF NOT EXISTS Queue (\n",
    "    person_id int,\n",
    "    person_name varchar(30),\n",
    "    weight int,\n",
    "    turn int\n",
    ")\n",
    "''')"
   ]
  },
  {
   "cell_type": "code",
   "execution_count": null,
   "id": "a3047a87-bc25-4e12-ba4c-4bf477fdf89f",
   "metadata": {},
   "outputs": [
    {
     "data": {
      "text/plain": [
       "<sqlite3.Cursor at 0x1bc80ef66c0>"
      ]
     },
     "execution_count": 7,
     "metadata": {},
     "output_type": "execute_result"
    }
   ],
   "source": [
    "# Delete all existing rows\n",
    "cursor.execute('DELETE FROM Queue')\n",
    "\n",
    "# Create data\n",
    "data_to_insert = [\n",
    "    ('5', 'Alice', '250', '1'),\n",
    "    ('4', 'Bob', '175', '5'),\n",
    "    ('3', 'Alex', '350', '2'),\n",
    "    ('6', 'John Cena', '400', '3'),\n",
    "    ('1', 'Winston', '500', '6'),\n",
    "    ('2', 'Marie', '200', '4'),\n",
    "]\n",
    "\n",
    "# Insert data\n",
    "cursor.executemany('''\n",
    "INSERT INTO Queue (person_id, person_name, weight, turn)\n",
    "VALUES (?, ?, ?, ?)\n",
    "''', data_to_insert)\n",
    "\n",
    "# Commit changes\n",
    "conn.commit()"
   ]
  },
  {
   "cell_type": "code",
   "execution_count": null,
   "id": "cc24d0b2-7495-404e-a921-55a5861ab4a1",
   "metadata": {},
   "outputs": [
    {
     "data": {
      "text/html": [
       "<div>\n",
       "<style scoped>\n",
       "    .dataframe tbody tr th:only-of-type {\n",
       "        vertical-align: middle;\n",
       "    }\n",
       "\n",
       "    .dataframe tbody tr th {\n",
       "        vertical-align: top;\n",
       "    }\n",
       "\n",
       "    .dataframe thead th {\n",
       "        text-align: right;\n",
       "    }\n",
       "</style>\n",
       "<table border=\"1\" class=\"dataframe\">\n",
       "  <thead>\n",
       "    <tr style=\"text-align: right;\">\n",
       "      <th></th>\n",
       "      <th>person_name</th>\n",
       "    </tr>\n",
       "  </thead>\n",
       "  <tbody>\n",
       "    <tr>\n",
       "      <th>0</th>\n",
       "      <td>John Cena</td>\n",
       "    </tr>\n",
       "  </tbody>\n",
       "</table>\n",
       "</div>"
      ],
      "text/plain": [
       "  person_name\n",
       "0   John Cena"
      ]
     },
     "execution_count": 24,
     "metadata": {},
     "output_type": "execute_result"
    }
   ],
   "source": [
    "# Query\n",
    "query = '''\n",
    "WITH TotalWeight AS (\n",
    "    SELECT person_name,\n",
    "        SUM(Weight) OVER (ORDER BY turn) AS total_weight\n",
    "    FROM Queue\n",
    ")\n",
    "SELECT person_name\n",
    "FROM TotalWeight\n",
    "WHERE total_weight <= 1000\n",
    "ORDER BY total_weight DESC\n",
    "LIMIT 1\n",
    "'''\n",
    "\n",
    "# Query data\n",
    "df = pd.read_sql_query(query, conn)\n",
    "\n",
    "# Display the result as a query\n",
    "df"
   ]
  },
  {
   "cell_type": "code",
   "execution_count": 25,
   "id": "c9b6c35e-67ac-4cce-b4a6-beb190edfbe1",
   "metadata": {},
   "outputs": [],
   "source": [
    "# Close the connection\n",
    "conn.close()"
   ]
  }
 ],
 "metadata": {
  "kernelspec": {
   "display_name": "Python 3 (ipykernel)",
   "language": "python",
   "name": "python3"
  },
  "language_info": {
   "codemirror_mode": {
    "name": "ipython",
    "version": 3
   },
   "file_extension": ".py",
   "mimetype": "text/x-python",
   "name": "python",
   "nbconvert_exporter": "python",
   "pygments_lexer": "ipython3",
   "version": "3.12.7"
  }
 },
 "nbformat": 4,
 "nbformat_minor": 5
}
